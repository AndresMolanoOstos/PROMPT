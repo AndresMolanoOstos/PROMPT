{
 "cells": [
  {
   "cell_type": "code",
   "execution_count": 51,
   "id": "5f7a45bb",
   "metadata": {},
   "outputs": [],
   "source": [
    "import openpyxl\n",
    "import smtplib\n",
    "from email.mime.multipart import MIMEMultipart\n",
    "from email.mime.text import MIMEText\n",
    "from datetime import datetime, timedelta\n",
    "\n",
    "# Configuración del correo electrónico\n",
    "sender_email = 'andresostos27@hotmail.com'  # Tu dirección de correo de Outlook/Hotmail\n",
    "sender_password = ''  # Contraseña de aplicación generada\n",
    "smtp_server = 'smtp-mail.outlook.com'  # Servidor SMTP de Outlook/Hotmail\n",
    "smtp_port = 587  # Puerto SMTP de Outlook/Hotmail\n",
    "\n",
    "# Ruta al archivo Excel\n",
    "excel_file = 'C:\\\\Users\\\\andre\\\\Documents\\\\PROMPT\\\\Fechas.xlsx'\n",
    "\n",
    "# Abre el archivo Excel\n",
    "workbook = openpyxl.load_workbook(excel_file)\n",
    "sheet = workbook.active\n",
    "\n",
    "# Define la columna en la que se encuentra la fecha\n",
    "columna_fecha = 'A'  # Cambia 'A' por la letra de la columna donde está la fecha\n",
    "\n",
    "# Obtiene la fecha actual\n",
    "hoy = datetime.now().date()\n",
    "\n",
    "# Recorre las filas de la hoja de Excel\n",
    "for row in sheet.iter_rows(min_row=2, values_only=True):\n",
    "    fecha_excel = row[0]  # Asumiendo que la fecha está en la primera columna\n",
    "\n",
    "    # Comprueba si la fecha en Excel coincide con la fecha actual\n",
    "    if fecha_excel.date() == hoy:\n",
    "        destinatario = row[1]  # Asumiendo que el destinatario está en la segunda columna\n",
    "\n",
    "        # Crea y configura el mensaje de correo\n",
    "        message = MIMEMultipart()\n",
    "        message['From'] = sender_email\n",
    "        message['To'] = destinatario\n",
    "        message['Subject'] = 'Recordatorio para hoy'\n",
    "\n",
    "        # Cuerpo del mensaje\n",
    "        body = 'Este es un recordatorio para hoy.'\n",
    "        message.attach(MIMEText(body, 'plain'))\n",
    "\n",
    "        # Inicia una conexión al servidor SMTP de Outlook/Hotmail\n",
    "        server = smtplib.SMTP(smtp_server, smtp_port)\n",
    "        server.starttls()\n",
    "        server.login(sender_email, sender_password)\n",
    "\n",
    "        # Envía el correo electrónico\n",
    "        server.sendmail(sender_email, destinatario, message.as_string())\n",
    "\n",
    "        # Cierra la conexión con el servidor SMTP\n",
    "        server.quit()\n",
    "\n",
    "# Cierra el archivo Excel\n",
    "workbook.close()"
   ]
  },
  {
   "cell_type": "code",
   "execution_count": null,
   "id": "43e2dd17",
   "metadata": {},
   "outputs": [],
   "source": []
  }
 ],
 "metadata": {
  "kernelspec": {
   "display_name": "Python 3 (ipykernel)",
   "language": "python",
   "name": "python3"
  },
  "language_info": {
   "codemirror_mode": {
    "name": "ipython",
    "version": 3
   },
   "file_extension": ".py",
   "mimetype": "text/x-python",
   "name": "python",
   "nbconvert_exporter": "python",
   "pygments_lexer": "ipython3",
   "version": "3.11.1"
  }
 },
 "nbformat": 4,
 "nbformat_minor": 5
}
